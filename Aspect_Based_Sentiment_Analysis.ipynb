{
 "cells": [
  {
   "cell_type": "markdown",
   "metadata": {
    "id": "GIi_Lm8fP4lZ"
   },
   "source": [
    "# Aspect term extraction and sentiment classification via [PyABSA](https://github.com/yangheng95/PyABSA)\n",
    "More usages see [here](https://github.com/yangheng95/PyABSA/tree/release/demos/aspect_term_extraction)"
   ]
  },
  {
   "cell_type": "markdown",
   "metadata": {
    "id": "XwAQ49808JdA"
   },
   "source": [
    "**Reviews Examples**\n",
    "\n",
    "1.   Camera quality is very good but battery drains fast\n",
    "2.   Staff was very rude but food was delicious\n",
    "\n",
    "\n"
   ]
  },
  {
   "cell_type": "code",
   "execution_count": 1,
   "metadata": {
    "id": "u9qtNy3ePgzd"
   },
   "outputs": [
    {
     "name": "stdout",
     "output_type": "stream",
     "text": [
      "Collecting pyabsa"
     ]
    },
    {
     "name": "stderr",
     "output_type": "stream",
     "text": [
      "ERROR: pip's dependency resolver does not currently take into account all the packages that are installed. This behaviour is the source of the following dependency conflicts.\n",
      "anaconda-project 0.11.1 requires ruamel-yaml, which is not installed.\n"
     ]
    },
    {
     "name": "stdout",
     "output_type": "stream",
     "text": [
      "\n",
      "  Downloading pyabsa-2.0.28-py3-none-any.whl (452 kB)\n",
      "     -------------------------------------- 452.9/452.9 kB 5.6 MB/s eta 0:00:00\n",
      "Requirement already satisfied: transformers>=4.18.0 in c:\\users\\omkar\\anaconda3\\lib\\site-packages (from pyabsa) (4.26.1)\n",
      "Collecting spacy\n",
      "  Downloading spacy-3.5.0-cp39-cp39-win_amd64.whl (12.2 MB)\n",
      "     ---------------------------------------- 12.2/12.2 MB 6.0 MB/s eta 0:00:00\n",
      "Collecting seqeval\n",
      "  Downloading seqeval-1.2.2.tar.gz (43 kB)\n",
      "     ---------------------------------------- 43.6/43.6 kB 2.1 MB/s eta 0:00:00\n",
      "  Preparing metadata (setup.py): started\n",
      "  Preparing metadata (setup.py): finished with status 'done'\n",
      "Requirement already satisfied: torch>=1.0.0 in c:\\users\\omkar\\anaconda3\\lib\\site-packages (from pyabsa) (1.13.1)\n",
      "Requirement already satisfied: protobuf<4.0.0 in c:\\users\\omkar\\anaconda3\\lib\\site-packages (from pyabsa) (3.20.3)\n",
      "Collecting autocuda>=0.16\n",
      "  Downloading autocuda-0.16-py3-none-any.whl (5.1 kB)\n",
      "Collecting findfile>=2.0.0\n",
      "  Downloading findfile-2.0.0-py3-none-any.whl (9.3 kB)\n",
      "Collecting update-checker\n",
      "  Downloading update_checker-0.18.0-py3-none-any.whl (7.0 kB)\n",
      "Requirement already satisfied: pandas in c:\\users\\omkar\\anaconda3\\lib\\site-packages (from pyabsa) (1.4.4)\n",
      "Collecting boostaug>=2.3.5\n",
      "  Downloading boostaug-2.3.5-py3-none-any.whl (16 kB)\n",
      "Requirement already satisfied: networkx in c:\\users\\omkar\\anaconda3\\lib\\site-packages (from pyabsa) (2.8.4)\n",
      "Requirement already satisfied: tqdm in c:\\users\\omkar\\anaconda3\\lib\\site-packages (from pyabsa) (4.64.1)\n",
      "Requirement already satisfied: sentencepiece in c:\\users\\omkar\\anaconda3\\lib\\site-packages (from pyabsa) (0.1.97)\n",
      "Requirement already satisfied: typing-extensions in c:\\users\\omkar\\anaconda3\\lib\\site-packages (from pyabsa) (4.3.0)\n",
      "Collecting metric-visualizer>=0.8.8\n",
      "  Downloading metric_visualizer-0.9.3-py3-none-any.whl (23 kB)\n",
      "Collecting pytorch-warmup\n",
      "  Downloading pytorch_warmup-0.1.1-py3-none-any.whl (6.6 kB)\n",
      "Collecting termcolor\n",
      "  Using cached termcolor-2.2.0-py3-none-any.whl (6.6 kB)\n",
      "Requirement already satisfied: gitpython in c:\\users\\omkar\\anaconda3\\lib\\site-packages (from pyabsa) (3.1.31)\n",
      "Requirement already satisfied: numpy in c:\\users\\omkar\\anaconda3\\lib\\site-packages (from metric-visualizer>=0.8.8->pyabsa) (1.21.5)\n",
      "Requirement already satisfied: click in c:\\users\\omkar\\anaconda3\\lib\\site-packages (from metric-visualizer>=0.8.8->pyabsa) (8.0.4)\n",
      "Collecting matplotlib>=3.6.3\n",
      "  Downloading matplotlib-3.7.0-cp39-cp39-win_amd64.whl (7.6 MB)\n",
      "     ---------------------------------------- 7.6/7.6 MB 6.9 MB/s eta 0:00:00\n",
      "Requirement already satisfied: tabulate in c:\\users\\omkar\\anaconda3\\lib\\site-packages (from metric-visualizer>=0.8.8->pyabsa) (0.8.10)\n",
      "Collecting natsort\n",
      "  Downloading natsort-8.3.1-py3-none-any.whl (38 kB)\n",
      "Requirement already satisfied: xlsxwriter in c:\\users\\omkar\\anaconda3\\lib\\site-packages (from metric-visualizer>=0.8.8->pyabsa) (3.0.3)\n",
      "Requirement already satisfied: openpyxl in c:\\users\\omkar\\anaconda3\\lib\\site-packages (from metric-visualizer>=0.8.8->pyabsa) (3.0.10)\n",
      "Collecting tikzplotlib\n",
      "  Downloading tikzplotlib-0.10.1-py3-none-any.whl (54 kB)\n",
      "     ---------------------------------------- 54.2/54.2 kB 2.9 MB/s eta 0:00:00\n",
      "Requirement already satisfied: scipy in c:\\users\\omkar\\anaconda3\\lib\\site-packages (from metric-visualizer>=0.8.8->pyabsa) (1.9.1)\n",
      "Requirement already satisfied: huggingface-hub<1.0,>=0.11.0 in c:\\users\\omkar\\anaconda3\\lib\\site-packages (from transformers>=4.18.0->pyabsa) (0.12.1)\n",
      "Requirement already satisfied: pyyaml>=5.1 in c:\\users\\omkar\\anaconda3\\lib\\site-packages (from transformers>=4.18.0->pyabsa) (6.0)\n",
      "Requirement already satisfied: regex!=2019.12.17 in c:\\users\\omkar\\anaconda3\\lib\\site-packages (from transformers>=4.18.0->pyabsa) (2022.7.9)\n",
      "Requirement already satisfied: tokenizers!=0.11.3,<0.14,>=0.11.1 in c:\\users\\omkar\\anaconda3\\lib\\site-packages (from transformers>=4.18.0->pyabsa) (0.13.2)\n",
      "Requirement already satisfied: packaging>=20.0 in c:\\users\\omkar\\anaconda3\\lib\\site-packages (from transformers>=4.18.0->pyabsa) (21.3)\n",
      "Requirement already satisfied: filelock in c:\\users\\omkar\\anaconda3\\lib\\site-packages (from transformers>=4.18.0->pyabsa) (3.6.0)\n",
      "Requirement already satisfied: requests in c:\\users\\omkar\\anaconda3\\lib\\site-packages (from transformers>=4.18.0->pyabsa) (2.28.1)\n",
      "Requirement already satisfied: colorama in c:\\users\\omkar\\anaconda3\\lib\\site-packages (from tqdm->pyabsa) (0.4.5)\n",
      "Requirement already satisfied: gitdb<5,>=4.0.1 in c:\\users\\omkar\\anaconda3\\lib\\site-packages (from gitpython->pyabsa) (4.0.10)\n",
      "Requirement already satisfied: pytz>=2020.1 in c:\\users\\omkar\\anaconda3\\lib\\site-packages (from pandas->pyabsa) (2022.1)\n",
      "Requirement already satisfied: python-dateutil>=2.8.1 in c:\\users\\omkar\\anaconda3\\lib\\site-packages (from pandas->pyabsa) (2.8.2)\n",
      "Requirement already satisfied: scikit-learn>=0.21.3 in c:\\users\\omkar\\anaconda3\\lib\\site-packages (from seqeval->pyabsa) (1.0.2)\n",
      "Collecting catalogue<2.1.0,>=2.0.6\n",
      "  Using cached catalogue-2.0.8-py3-none-any.whl (17 kB)\n",
      "Collecting thinc<8.2.0,>=8.1.0\n",
      "  Downloading thinc-8.1.8-cp39-cp39-win_amd64.whl (1.5 MB)\n",
      "     ---------------------------------------- 1.5/1.5 MB 5.9 MB/s eta 0:00:00\n",
      "Collecting wasabi<1.2.0,>=0.9.1\n",
      "  Downloading wasabi-1.1.1-py3-none-any.whl (27 kB)\n",
      "Collecting langcodes<4.0.0,>=3.2.0\n",
      "  Using cached langcodes-3.3.0-py3-none-any.whl (181 kB)\n",
      "Requirement already satisfied: smart-open<7.0.0,>=5.2.1 in c:\\users\\omkar\\anaconda3\\lib\\site-packages (from spacy->pyabsa) (5.2.1)\n",
      "Collecting pathy>=0.10.0\n",
      "  Downloading pathy-0.10.1-py3-none-any.whl (48 kB)\n",
      "     ---------------------------------------- 48.9/48.9 kB 2.4 MB/s eta 0:00:00\n",
      "Collecting pydantic!=1.8,!=1.8.1,<1.11.0,>=1.7.4\n",
      "  Downloading pydantic-1.10.5-cp39-cp39-win_amd64.whl (2.2 MB)\n",
      "     ---------------------------------------- 2.2/2.2 MB 6.9 MB/s eta 0:00:00\n",
      "Requirement already satisfied: setuptools in c:\\users\\omkar\\anaconda3\\lib\\site-packages (from spacy->pyabsa) (63.4.1)\n",
      "Collecting cymem<2.1.0,>=2.0.2\n",
      "  Using cached cymem-2.0.7-cp39-cp39-win_amd64.whl (30 kB)\n",
      "Collecting spacy-loggers<2.0.0,>=1.0.0\n",
      "  Downloading spacy_loggers-1.0.4-py3-none-any.whl (11 kB)\n",
      "Collecting murmurhash<1.1.0,>=0.28.0\n",
      "  Using cached murmurhash-1.0.9-cp39-cp39-win_amd64.whl (18 kB)\n",
      "Collecting preshed<3.1.0,>=3.0.2\n",
      "  Using cached preshed-3.0.8-cp39-cp39-win_amd64.whl (96 kB)\n",
      "Requirement already satisfied: jinja2 in c:\\users\\omkar\\anaconda3\\lib\\site-packages (from spacy->pyabsa) (2.11.3)\n",
      "Collecting srsly<3.0.0,>=2.4.3\n",
      "  Downloading srsly-2.4.6-cp39-cp39-win_amd64.whl (482 kB)\n",
      "     -------------------------------------- 482.8/482.8 kB 7.5 MB/s eta 0:00:00\n",
      "Collecting typer<0.8.0,>=0.3.0\n",
      "  Using cached typer-0.7.0-py3-none-any.whl (38 kB)\n",
      "Collecting spacy-legacy<3.1.0,>=3.0.11\n",
      "  Downloading spacy_legacy-3.0.12-py2.py3-none-any.whl (29 kB)\n",
      "Requirement already satisfied: smmap<6,>=3.0.1 in c:\\users\\omkar\\anaconda3\\lib\\site-packages (from gitdb<5,>=4.0.1->gitpython->pyabsa) (5.0.0)\n",
      "Requirement already satisfied: cycler>=0.10 in c:\\users\\omkar\\anaconda3\\lib\\site-packages (from matplotlib>=3.6.3->metric-visualizer>=0.8.8->pyabsa) (0.11.0)\n",
      "Collecting contourpy>=1.0.1\n",
      "  Downloading contourpy-1.0.7-cp39-cp39-win_amd64.whl (160 kB)\n",
      "     ------------------------------------- 160.2/160.2 kB 10.0 MB/s eta 0:00:00\n",
      "Requirement already satisfied: pillow>=6.2.0 in c:\\users\\omkar\\anaconda3\\lib\\site-packages (from matplotlib>=3.6.3->metric-visualizer>=0.8.8->pyabsa) (9.2.0)\n",
      "Collecting importlib-resources>=3.2.0\n",
      "  Downloading importlib_resources-5.12.0-py3-none-any.whl (36 kB)\n",
      "Requirement already satisfied: kiwisolver>=1.0.1 in c:\\users\\omkar\\anaconda3\\lib\\site-packages (from matplotlib>=3.6.3->metric-visualizer>=0.8.8->pyabsa) (1.4.2)\n",
      "Requirement already satisfied: pyparsing>=2.3.1 in c:\\users\\omkar\\anaconda3\\lib\\site-packages (from matplotlib>=3.6.3->metric-visualizer>=0.8.8->pyabsa) (3.0.9)\n",
      "Requirement already satisfied: fonttools>=4.22.0 in c:\\users\\omkar\\anaconda3\\lib\\site-packages (from matplotlib>=3.6.3->metric-visualizer>=0.8.8->pyabsa) (4.25.0)\n",
      "Requirement already satisfied: six>=1.5 in c:\\users\\omkar\\anaconda3\\lib\\site-packages (from python-dateutil>=2.8.1->pandas->pyabsa) (1.16.0)\n",
      "Requirement already satisfied: charset-normalizer<3,>=2 in c:\\users\\omkar\\anaconda3\\lib\\site-packages (from requests->transformers>=4.18.0->pyabsa) (2.0.4)\n",
      "Requirement already satisfied: certifi>=2017.4.17 in c:\\users\\omkar\\anaconda3\\lib\\site-packages (from requests->transformers>=4.18.0->pyabsa) (2022.9.14)\n",
      "Requirement already satisfied: urllib3<1.27,>=1.21.1 in c:\\users\\omkar\\anaconda3\\lib\\site-packages (from requests->transformers>=4.18.0->pyabsa) (1.26.11)\n",
      "Requirement already satisfied: idna<4,>=2.5 in c:\\users\\omkar\\anaconda3\\lib\\site-packages (from requests->transformers>=4.18.0->pyabsa) (3.3)\n",
      "Requirement already satisfied: threadpoolctl>=2.0.0 in c:\\users\\omkar\\anaconda3\\lib\\site-packages (from scikit-learn>=0.21.3->seqeval->pyabsa) (2.2.0)\n",
      "Requirement already satisfied: joblib>=0.11 in c:\\users\\omkar\\anaconda3\\lib\\site-packages (from scikit-learn>=0.21.3->seqeval->pyabsa) (1.1.0)\n",
      "Collecting confection<1.0.0,>=0.0.1\n",
      "  Downloading confection-0.0.4-py3-none-any.whl (32 kB)\n",
      "Collecting blis<0.8.0,>=0.7.8\n",
      "  Using cached blis-0.7.9-cp39-cp39-win_amd64.whl (7.0 MB)\n",
      "Collecting colorama\n",
      "  Using cached colorama-0.4.6-py2.py3-none-any.whl (25 kB)\n",
      "Requirement already satisfied: MarkupSafe>=0.23 in c:\\users\\omkar\\anaconda3\\lib\\site-packages (from jinja2->spacy->pyabsa) (2.0.1)\n",
      "Requirement already satisfied: et_xmlfile in c:\\users\\omkar\\anaconda3\\lib\\site-packages (from openpyxl->metric-visualizer>=0.8.8->pyabsa) (1.1.0)\n",
      "Collecting webcolors\n",
      "  Using cached webcolors-1.12-py3-none-any.whl (9.9 kB)\n",
      "Requirement already satisfied: zipp>=3.1.0 in c:\\users\\omkar\\anaconda3\\lib\\site-packages (from importlib-resources>=3.2.0->matplotlib>=3.6.3->metric-visualizer>=0.8.8->pyabsa) (3.8.0)\n",
      "Building wheels for collected packages: seqeval\n",
      "  Building wheel for seqeval (setup.py): started\n",
      "  Building wheel for seqeval (setup.py): finished with status 'done'\n",
      "  Created wheel for seqeval: filename=seqeval-1.2.2-py3-none-any.whl size=16165 sha256=212d6c8be49fffd4c8a8eea46817c25901f1132a03f2ff3ad910ed80fb672c86\n",
      "  Stored in directory: c:\\users\\omkar\\appdata\\local\\pip\\cache\\wheels\\e2\\a5\\92\\2c80d1928733611c2747a9820e1324a6835524d9411510c142\n",
      "Successfully built seqeval\n",
      "Installing collected packages: cymem, webcolors, termcolor, spacy-loggers, spacy-legacy, pydantic, natsort, murmurhash, langcodes, importlib-resources, contourpy, colorama, catalogue, blis, autocuda, wasabi, update-checker, srsly, pytorch-warmup, preshed, matplotlib, findfile, typer, tikzplotlib, seqeval, confection, thinc, pathy, metric-visualizer, spacy, boostaug, pyabsa\n",
      "  Attempting uninstall: colorama\n",
      "    Found existing installation: colorama 0.4.5\n",
      "    Uninstalling colorama-0.4.5:\n",
      "      Successfully uninstalled colorama-0.4.5\n",
      "  Attempting uninstall: matplotlib\n",
      "    Found existing installation: matplotlib 3.5.2\n",
      "    Uninstalling matplotlib-3.5.2:\n",
      "      Successfully uninstalled matplotlib-3.5.2\n",
      "Successfully installed autocuda-0.16 blis-0.7.9 boostaug-2.3.5 catalogue-2.0.8 colorama-0.4.6 confection-0.0.4 contourpy-1.0.7 cymem-2.0.7 findfile-2.0.0 importlib-resources-5.12.0 langcodes-3.3.0 matplotlib-3.7.0 metric-visualizer-0.9.3 murmurhash-1.0.9 natsort-8.3.1 pathy-0.10.1 preshed-3.0.8 pyabsa-2.0.28 pydantic-1.10.5 pytorch-warmup-0.1.1 seqeval-1.2.2 spacy-3.5.0 spacy-legacy-3.0.12 spacy-loggers-1.0.4 srsly-2.4.6 termcolor-2.2.0 thinc-8.1.8 tikzplotlib-0.10.1 typer-0.7.0 update-checker-0.18.0 wasabi-1.1.1 webcolors-1.12\n"
     ]
    }
   ],
   "source": [
    "!pip install pyabsa"
   ]
  },
  {
   "cell_type": "markdown",
   "metadata": {
    "id": "gQ6c9MQlP1xo"
   },
   "source": [
    "## Find Available Checkpoints For **Current Version**"
   ]
  },
  {
   "cell_type": "code",
   "execution_count": 2,
   "metadata": {
    "id": "iTyTYSOGQd-h"
   },
   "outputs": [
    {
     "name": "stdout",
     "output_type": "stream",
     "text": [
      "No CUDA GPU found in your device\n",
      "[2023-03-03 12:28:00] (2.0.28) PyABSA(2.0.28): If you find any problems, please report them on GitHub. Thanks!\n",
      "The v2.x versions are not compatible with Google Colab. Please downgrade to 1.16.27.\n"
     ]
    },
    {
     "name": "stderr",
     "output_type": "stream",
     "text": [
      "C:\\Users\\OMKAR\\anaconda3\\lib\\multiprocessing\\pool.py:265: ResourceWarning: unclosed running multiprocessing pool <multiprocessing.pool.Pool state=RUN pool_size=1>\n",
      "  _warn(f\"unclosed running multiprocessing pool {self!r}\",\n",
      "ResourceWarning: Enable tracemalloc to get the object allocation traceback\n"
     ]
    },
    {
     "ename": "TypeError",
     "evalue": "available_checkpoints() got an unexpected keyword argument 'from_local'",
     "output_type": "error",
     "traceback": [
      "\u001b[1;31m---------------------------------------------------------------------------\u001b[0m",
      "\u001b[1;31mTypeError\u001b[0m                                 Traceback (most recent call last)",
      "\u001b[1;32m~\\AppData\\Local\\Temp\\ipykernel_19564\\715878519.py\u001b[0m in \u001b[0;36m<module>\u001b[1;34m\u001b[0m\n\u001b[0;32m      1\u001b[0m \u001b[1;32mfrom\u001b[0m \u001b[0mpyabsa\u001b[0m \u001b[1;32mimport\u001b[0m \u001b[0mavailable_checkpoints\u001b[0m\u001b[1;33m\u001b[0m\u001b[1;33m\u001b[0m\u001b[0m\n\u001b[1;32m----> 2\u001b[1;33m \u001b[0mcheckpoint_map\u001b[0m \u001b[1;33m=\u001b[0m \u001b[0mavailable_checkpoints\u001b[0m\u001b[1;33m(\u001b[0m\u001b[0mfrom_local\u001b[0m\u001b[1;33m=\u001b[0m\u001b[1;32mFalse\u001b[0m\u001b[1;33m)\u001b[0m\u001b[1;33m\u001b[0m\u001b[1;33m\u001b[0m\u001b[0m\n\u001b[0m",
      "\u001b[1;31mTypeError\u001b[0m: available_checkpoints() got an unexpected keyword argument 'from_local'"
     ]
    }
   ],
   "source": [
    "from pyabsa import available_checkpoints\n",
    "checkpoint_map = available_checkpoints(from_local=False)"
   ]
  },
  {
   "cell_type": "markdown",
   "metadata": {
    "id": "mbIUc1IdQ-rr"
   },
   "source": [
    "# Init a aspect extractor from online checkpoint or local checkpoint"
   ]
  },
  {
   "cell_type": "code",
   "execution_count": 3,
   "metadata": {
    "id": "F3P3j_q-SYV-"
   },
   "outputs": [
    {
     "name": "stdout",
     "output_type": "stream",
     "text": [
      "[2023-03-03 12:30:36] (2.0.28) ********** Available ATEPC model checkpoints for Version:2.0.28 (this version) **********\n",
      "[2023-03-03 12:30:36] (2.0.28) Downloading checkpoint:english \n",
      "[2023-03-03 12:30:36] (2.0.28) Notice: The pretrained model are used for testing, it is recommended to train the model on your own custom datasets\n"
     ]
    },
    {
     "name": "stderr",
     "output_type": "stream",
     "text": [
      "Downloading checkpoint: 579MB [02:17,  4.21MB/s]                                                                       "
     ]
    },
    {
     "name": "stdout",
     "output_type": "stream",
     "text": [
      "[2023-03-03 12:32:58] (2.0.28) Find zipped checkpoint: ./checkpoints\\ATEPC_ENGLISH_CHECKPOINT\\fast_lcf_atepc_English_cdw_apcacc_82.36_apcf1_81.89_atef1_75.43.zip, unzipping\n"
     ]
    },
    {
     "name": "stderr",
     "output_type": "stream",
     "text": [
      "\n"
     ]
    },
    {
     "name": "stdout",
     "output_type": "stream",
     "text": [
      "[2023-03-03 12:33:11] (2.0.28) Done.\n",
      "[2023-03-03 12:33:11] (2.0.28) If the auto-downloading failed, please download it via browser: https://huggingface.co/spaces/yangheng/PyABSA/resolve/main/checkpoints/English/ATEPC/fast_lcf_atepc_English_cdw_apcacc_82.36_apcf1_81.89_atef1_75.43.zip \n",
      "[2023-03-03 12:33:11] (2.0.28) Load aspect extractor from ./checkpoints\\ATEPC_ENGLISH_CHECKPOINT\\fast_lcf_atepc_English_cdw_apcacc_82.36_apcf1_81.89_atef1_75.43\n",
      "[2023-03-03 12:33:11] (2.0.28) config: ./checkpoints\\ATEPC_ENGLISH_CHECKPOINT\\fast_lcf_atepc_English_cdw_apcacc_82.36_apcf1_81.89_atef1_75.43\\fast_lcf_atepc.config\n",
      "[2023-03-03 12:33:11] (2.0.28) state_dict: ./checkpoints\\ATEPC_ENGLISH_CHECKPOINT\\fast_lcf_atepc_English_cdw_apcacc_82.36_apcf1_81.89_atef1_75.43\\fast_lcf_atepc.state_dict\n",
      "[2023-03-03 12:33:11] (2.0.28) model: None\n",
      "[2023-03-03 12:33:11] (2.0.28) tokenizer: ./checkpoints\\ATEPC_ENGLISH_CHECKPOINT\\fast_lcf_atepc_English_cdw_apcacc_82.36_apcf1_81.89_atef1_75.43\\fast_lcf_atepc.tokenizer\n",
      "[2023-03-03 12:33:11] (2.0.28) Set Model Device: cpu\n",
      "[2023-03-03 12:33:11] (2.0.28) Device Name: Unknown\n"
     ]
    },
    {
     "data": {
      "application/vnd.jupyter.widget-view+json": {
       "model_id": "fb0bba4e06ca43768db05dcb36a6fafe",
       "version_major": 2,
       "version_minor": 0
      },
      "text/plain": [
       "Downloading (…)lve/main/config.json:   0%|          | 0.00/579 [00:00<?, ?B/s]"
      ]
     },
     "metadata": {},
     "output_type": "display_data"
    },
    {
     "name": "stderr",
     "output_type": "stream",
     "text": [
      "C:\\Users\\OMKAR\\anaconda3\\lib\\site-packages\\huggingface_hub\\file_download.py:129: UserWarning: `huggingface_hub` cache-system uses symlinks by default to efficiently store duplicated files but your machine does not support them in C:\\Users\\OMKAR\\.cache\\huggingface\\hub. Caching files will still work but in a degraded version that might require more space on your disk. This warning can be disabled by setting the `HF_HUB_DISABLE_SYMLINKS_WARNING` environment variable. For more details, see https://huggingface.co/docs/huggingface_hub/how-to-cache#limitations.\n",
      "To support symlinks on Windows, you either need to activate Developer Mode or to run Python as an administrator. In order to see activate developer mode, see this article: https://docs.microsoft.com/en-us/windows/apps/get-started/enable-your-device-for-development\n",
      "  warnings.warn(message)\n"
     ]
    },
    {
     "data": {
      "application/vnd.jupyter.widget-view+json": {
       "model_id": "65233986ae8842c39603ea9b159d77bd",
       "version_major": 2,
       "version_minor": 0
      },
      "text/plain": [
       "Downloading (…)\"pytorch_model.bin\";:   0%|          | 0.00/371M [00:00<?, ?B/s]"
      ]
     },
     "metadata": {},
     "output_type": "display_data"
    },
    {
     "name": "stderr",
     "output_type": "stream",
     "text": [
      "Some weights of the model checkpoint at microsoft/deberta-v3-base were not used when initializing DebertaV2Model: ['lm_predictions.lm_head.dense.bias', 'lm_predictions.lm_head.dense.weight', 'lm_predictions.lm_head.bias', 'lm_predictions.lm_head.LayerNorm.bias', 'mask_predictions.dense.bias', 'mask_predictions.classifier.bias', 'mask_predictions.classifier.weight', 'mask_predictions.dense.weight', 'mask_predictions.LayerNorm.bias', 'lm_predictions.lm_head.LayerNorm.weight', 'mask_predictions.LayerNorm.weight']\n",
      "- This IS expected if you are initializing DebertaV2Model from the checkpoint of a model trained on another task or with another architecture (e.g. initializing a BertForSequenceClassification model from a BertForPreTraining model).\n",
      "- This IS NOT expected if you are initializing DebertaV2Model from the checkpoint of a model that you expect to be exactly identical (initializing a BertForSequenceClassification model from a BertForSequenceClassification model).\n"
     ]
    },
    {
     "data": {
      "application/vnd.jupyter.widget-view+json": {
       "model_id": "966b8f0dddbd4cc4b00f56f4cc1bb88c",
       "version_major": 2,
       "version_minor": 0
      },
      "text/plain": [
       "Downloading (…)okenizer_config.json:   0%|          | 0.00/52.0 [00:00<?, ?B/s]"
      ]
     },
     "metadata": {},
     "output_type": "display_data"
    },
    {
     "data": {
      "application/vnd.jupyter.widget-view+json": {
       "model_id": "153c8651992d4a2091eda3352f9e6ef0",
       "version_major": 2,
       "version_minor": 0
      },
      "text/plain": [
       "Downloading (…)\"spm.model\";:   0%|          | 0.00/2.46M [00:00<?, ?B/s]"
      ]
     },
     "metadata": {},
     "output_type": "display_data"
    },
    {
     "name": "stderr",
     "output_type": "stream",
     "text": [
      "Special tokens have been added in the vocabulary, make sure the associated word embeddings are fine-tuned or trained.\n",
      "C:\\Users\\OMKAR\\anaconda3\\lib\\site-packages\\transformers\\convert_slow_tokenizer.py:446: UserWarning: The sentencepiece tokenizer that you are converting to a fast tokenizer uses the byte fallback option which is not implemented in the fast tokenizers. In practice this means that the fast version of the tokenizer can produce unknown tokens whereas the sentencepiece version would have converted these unknown tokens into a sequence of byte tokens matching the original piece of text.\n",
      "  warnings.warn(\n",
      "Special tokens have been added in the vocabulary, make sure the associated word embeddings are fine-tuned or trained.\n"
     ]
    }
   ],
   "source": [
    "from pyabsa import ATEPCCheckpointManager\n",
    "\n",
    "aspect_extractor = ATEPCCheckpointManager.get_aspect_extractor(checkpoint='english',\n",
    "                                   auto_device=True  # False means load model on CPU\n",
    "                                   )\n"
   ]
  },
  {
   "cell_type": "markdown",
   "metadata": {
    "id": "8i24adlqTqC4"
   },
   "source": [
    "# Aspect Term Extract & Sentiment Inference"
   ]
  },
  {
   "cell_type": "code",
   "execution_count": 7,
   "metadata": {
    "colab": {
     "base_uri": "https://localhost:8080/"
    },
    "id": "zcCbXGKPTvBS",
    "outputId": "0cad76da-cb42-43b4-9c5d-d99f62137568"
   },
   "outputs": [
    {
     "name": "stdout",
     "output_type": "stream",
     "text": [
      "[2023-03-03 12:38:06] (2.0.28) The results of aspect term extraction have been saved in C:\\Users\\OMKAR\\Desktop\\Aspect Term Extraction and Polarity Classification.FAST_LCF_ATEPC.result.json\n",
      "[2023-03-03 12:38:06] (2.0.28) Example 0: The Samsung Galaxy S8 is a beautifully <designed:Positive Confidence:0.9989627599716187> phone with a large , vibrant <display:Positive Confidence:0.9994818568229675> and an impressive <camera:Positive Confidence:0.9982851147651672> . But its high <price:Negative Confidence:0.9980902075767517> tag and lackluster <battery life:Negative Confidence:0.9990584254264832> are major drawbacks .\n"
     ]
    }
   ],
   "source": [
    "\n",
    "# You can inference from a list of setences or a DatasetItem from PyABSA \n",
    "examples = ['The Samsung Galaxy S8 is a beautifully designed phone with a large, vibrant display and an impressive camera. But its high price tag and lackluster battery life are major drawbacks.']\n",
    "inference_source = examples\n",
    "atepc_result = aspect_extractor.extract_aspect(inference_source=inference_source,  #\n",
    "                          pred_sentiment=True,  # Predict the sentiment of extracted aspect terms\n",
    "                          )\n",
    "\n"
   ]
  },
  {
   "cell_type": "code",
   "execution_count": 38,
   "metadata": {},
   "outputs": [
    {
     "data": {
      "text/plain": [
       "[{'sentence': 'The Samsung Galaxy S8 is a beautifully designed phone with a large , vibrant display and an impressive camera . But its high price tag and lackluster battery life are major drawbacks .',\n",
       "  'IOB': ['O',\n",
       "   'O',\n",
       "   'O',\n",
       "   'O',\n",
       "   'O',\n",
       "   'O',\n",
       "   'O',\n",
       "   'B-ASP',\n",
       "   'O',\n",
       "   'O',\n",
       "   'O',\n",
       "   'O',\n",
       "   'O',\n",
       "   'O',\n",
       "   'B-ASP',\n",
       "   'O',\n",
       "   'O',\n",
       "   'O',\n",
       "   'B-ASP',\n",
       "   'O',\n",
       "   'O',\n",
       "   'O',\n",
       "   'O',\n",
       "   'B-ASP',\n",
       "   'O',\n",
       "   'O',\n",
       "   'O',\n",
       "   'B-ASP',\n",
       "   'I-ASP',\n",
       "   'O',\n",
       "   'O',\n",
       "   'O',\n",
       "   'O'],\n",
       "  'tokens': ['The',\n",
       "   'Samsung',\n",
       "   'Galaxy',\n",
       "   'S8',\n",
       "   'is',\n",
       "   'a',\n",
       "   'beautifully',\n",
       "   'designed',\n",
       "   'phone',\n",
       "   'with',\n",
       "   'a',\n",
       "   'large',\n",
       "   ',',\n",
       "   'vibrant',\n",
       "   'display',\n",
       "   'and',\n",
       "   'an',\n",
       "   'impressive',\n",
       "   'camera',\n",
       "   '.',\n",
       "   'But',\n",
       "   'its',\n",
       "   'high',\n",
       "   'price',\n",
       "   'tag',\n",
       "   'and',\n",
       "   'lackluster',\n",
       "   'battery',\n",
       "   'life',\n",
       "   'are',\n",
       "   'major',\n",
       "   'drawbacks',\n",
       "   '.'],\n",
       "  'aspect': ['designed', 'display', 'camera', 'price', 'battery life'],\n",
       "  'position': [[8], [15], [19], [24], [28, 29]],\n",
       "  'sentiment': ['Positive', 'Positive', 'Positive', 'Negative', 'Negative'],\n",
       "  'probs': [[0.0008245864883065224,\n",
       "    0.00021265784744173288,\n",
       "    0.9989627599716187],\n",
       "   [0.0002775194589048624, 0.000240690351347439, 0.9994818568229675],\n",
       "   [0.0014672335237264633, 0.0002476006338838488, 0.9982851147651672],\n",
       "   [0.9980902075767517, 0.0014088144525885582, 0.0005008771549910307],\n",
       "   [0.9990584254264832, 0.0007351298118010163, 0.00020643362950067967]],\n",
       "  'confidence': [0.9989627599716187,\n",
       "   0.9994818568229675,\n",
       "   0.9982851147651672,\n",
       "   0.9980902075767517,\n",
       "   0.9990584254264832]}]"
      ]
     },
     "execution_count": 38,
     "metadata": {},
     "output_type": "execute_result"
    }
   ],
   "source": [
    "atepc_result"
   ]
  },
  {
   "cell_type": "code",
   "execution_count": 39,
   "metadata": {},
   "outputs": [
    {
     "data": {
      "text/plain": [
       "['designed', 'display', 'camera', 'price', 'battery life']"
      ]
     },
     "execution_count": 39,
     "metadata": {},
     "output_type": "execute_result"
    }
   ],
   "source": [
    "atepc_result[0]['aspect']"
   ]
  },
  {
   "cell_type": "code",
   "execution_count": 40,
   "metadata": {},
   "outputs": [
    {
     "data": {
      "text/plain": [
       "['Positive', 'Positive', 'Positive', 'Negative', 'Negative']"
      ]
     },
     "execution_count": 40,
     "metadata": {},
     "output_type": "execute_result"
    }
   ],
   "source": [
    "atepc_result[0]['sentiment']"
   ]
  },
  {
   "cell_type": "code",
   "execution_count": 46,
   "metadata": {},
   "outputs": [],
   "source": [
    "dict={}\n",
    "for i in range(len(atepc_result[0]['aspect'])):\n",
    "    dict[atepc_result[0]['aspect'][i]]=atepc_result[0]['sentiment'][i]"
   ]
  },
  {
   "cell_type": "code",
   "execution_count": 47,
   "metadata": {},
   "outputs": [
    {
     "data": {
      "text/plain": [
       "{'designed': 'Positive',\n",
       " 'display': 'Positive',\n",
       " 'camera': 'Positive',\n",
       " 'price': 'Negative',\n",
       " 'battery life': 'Negative'}"
      ]
     },
     "execution_count": 47,
     "metadata": {},
     "output_type": "execute_result"
    }
   ],
   "source": [
    "dict"
   ]
  },
  {
   "cell_type": "code",
   "execution_count": null,
   "metadata": {},
   "outputs": [],
   "source": []
  }
 ],
 "metadata": {
  "accelerator": "GPU",
  "colab": {
   "collapsed_sections": [],
   "name": "Aspect Based Sentiment Analysis.ipynb",
   "provenance": []
  },
  "gpuClass": "standard",
  "kernelspec": {
   "display_name": "Python 3 (ipykernel)",
   "language": "python",
   "name": "python3"
  },
  "language_info": {
   "codemirror_mode": {
    "name": "ipython",
    "version": 3
   },
   "file_extension": ".py",
   "mimetype": "text/x-python",
   "name": "python",
   "nbconvert_exporter": "python",
   "pygments_lexer": "ipython3",
   "version": "3.9.13"
  }
 },
 "nbformat": 4,
 "nbformat_minor": 1
}
